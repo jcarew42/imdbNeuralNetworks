{
 "cells": [
  {
   "cell_type": "markdown",
   "id": "554a896c-0634-480f-9716-90f783886592",
   "metadata": {
    "colab": {
     "base_uri": "https://localhost:8080/"
    },
    "id": "iSQNdZdnu0iz",
    "outputId": "c6edceec-42ab-4a15-eda2-1d3e63a42f66"
   },
   "source": [
    "# IMDb Neural Networks\n",
    "\n",
    "In this project, we will convolutional neural networks and recurrent neural networks for the purpose of sentiment analysis on the IMDb dataset."
   ]
  },
  {
   "cell_type": "markdown",
   "id": "yGmfB9r0-4D3",
   "metadata": {
    "id": "yGmfB9r0-4D3"
   },
   "source": [
    "# Convolutional Neural Networks (CNNs)\n",
    "\n",
    "We first consider convolutional neural networks.  "
   ]
  },
  {
   "cell_type": "code",
   "execution_count": 16,
   "id": "d0484dfb-40a6-4227-a954-684b5555a0dd",
   "metadata": {
    "execution": {
     "iopub.execute_input": "2023-11-06T23:10:58.627747Z",
     "iopub.status.busy": "2023-11-06T23:10:58.627224Z",
     "iopub.status.idle": "2023-11-06T23:10:58.636810Z",
     "shell.execute_reply": "2023-11-06T23:10:58.635296Z",
     "shell.execute_reply.started": "2023-11-06T23:10:58.627706Z"
    },
    "id": "d0484dfb-40a6-4227-a954-684b5555a0dd",
    "tags": []
   },
   "outputs": [],
   "source": [
    "#  Package import\n",
    "\n",
    "import numpy as np\n",
    "import pandas as pd\n",
    "\n",
    "import tensorflow as tf\n",
    "from tensorflow.keras.utils import to_categorical\n",
    "from tensorflow.keras.layers import Dense, Dropout, Conv1D, Embedding, AveragePooling1D, GlobalMaxPooling1D, Flatten, MaxPooling1D, GRU, LSTM, SimpleRNN, BatchNormalization\n",
    "from tensorflow.keras.models import Sequential\n",
    "from tensorflow.keras.optimizers import SGD, Adam, RMSprop, Nadam\n",
    "from tensorflow.keras.datasets import imdb\n",
    "from tensorflow.keras.preprocessing import sequence\n",
    "\n",
    "from sklearn.datasets import make_classification\n",
    "from sklearn.model_selection import train_test_split\n",
    "import matplotlib.pyplot as plt\n",
    "\n",
    "import pickle"
   ]
  },
  {
   "cell_type": "code",
   "execution_count": 2,
   "id": "5756e967-461e-4ca7-9739-6fd47af3e2c3",
   "metadata": {
    "execution": {
     "iopub.execute_input": "2023-11-06T22:58:34.242034Z",
     "iopub.status.busy": "2023-11-06T22:58:34.241441Z",
     "iopub.status.idle": "2023-11-06T22:58:44.900716Z",
     "shell.execute_reply": "2023-11-06T22:58:44.899371Z",
     "shell.execute_reply.started": "2023-11-06T22:58:34.242006Z"
    },
    "id": "5756e967-461e-4ca7-9739-6fd47af3e2c3",
    "tags": []
   },
   "outputs": [
    {
     "name": "stdout",
     "output_type": "stream",
     "text": [
      "Downloading data from https://storage.googleapis.com/tensorflow/tf-keras-datasets/imdb.npz\n",
      "17464789/17464789 [==============================] - 0s 0us/step\n",
      "Downloading data from https://storage.googleapis.com/tensorflow/tf-keras-datasets/imdb.npz\n",
      "17464789/17464789 [==============================] - 0s 0us/step\n"
     ]
    }
   ],
   "source": [
    "# Data import\n",
    "\n",
    "(x_train, y_train), (x_test, y_test) = imdb.load_data()\n",
    "\n",
    "vocab_size = 10000\n",
    "maxLen = 500\n",
    "\n",
    "(x_train, y_train), (x_test, y_test) = imdb.load_data(path=\"imbd.npz\",\n",
    "                                                      num_words=vocab_size,\n",
    "                                                      skip_top=0,\n",
    "                                                      maxlen=maxLen,\n",
    "                                                      seed=113,\n",
    "                                                      start_char=1,\n",
    "                                                      oov_char=2,\n",
    "                                                      index_from=3)\n",
    "\n",
    "x_train = sequence.pad_sequences(x_train, maxlen=maxLen)\n",
    "x_test = sequence.pad_sequences(x_test, maxlen=maxLen)"
   ]
  },
  {
   "cell_type": "markdown",
   "id": "e3d69194-c55f-4160-a355-fa559d55f538",
   "metadata": {},
   "source": [
    "In the cell below, we explore various CNN architectures."
   ]
  },
  {
   "cell_type": "code",
   "execution_count": 5,
   "id": "4bd8c520-7ef2-4876-84fe-ccbac88a1103",
   "metadata": {
    "execution": {
     "iopub.execute_input": "2023-11-06T22:59:49.496563Z",
     "iopub.status.busy": "2023-11-06T22:59:49.495820Z",
     "iopub.status.idle": "2023-11-06T22:59:49.732705Z",
     "shell.execute_reply": "2023-11-06T22:59:49.731884Z",
     "shell.execute_reply.started": "2023-11-06T22:59:49.496520Z"
    }
   },
   "outputs": [],
   "source": [
    "cnn_structures = []\n",
    "\n",
    "# Section 1:  Conv/Pool architectures with no fully connected network after flatten\n",
    "cnn_1 = [Embedding(input_dim=vocab_size, output_dim=128, input_shape=(500,), name=\"Input\"),\n",
    "         Conv1D(100, 7, activation='relu'),\n",
    "         MaxPooling1D(pool_size=2),\n",
    "         Flatten(),\n",
    "         Dense(1,activation='sigmoid')]\n",
    "\n",
    "cnn_2 = [Embedding(input_dim=vocab_size, output_dim=128, input_shape=(500,), name=\"Input\"),\n",
    "         Conv1D(100, 7, activation='relu'),\n",
    "         MaxPooling1D(pool_size=2),\n",
    "         Conv1D(200, 3, activation='relu'),\n",
    "         MaxPooling1D(pool_size=2),\n",
    "         Flatten(),\n",
    "         Dense(1,activation='sigmoid')]\n",
    "\n",
    "cnn_3 = [Embedding(input_dim=vocab_size, output_dim=128, input_shape=(500,), name=\"Input\"),\n",
    "         Conv1D(100, 7, activation='relu'),\n",
    "         MaxPooling1D(pool_size=2),\n",
    "         Conv1D(200, 3, activation='relu'),\n",
    "         MaxPooling1D(pool_size=2),\n",
    "         Conv1D(400, 3, activation='relu'),\n",
    "         MaxPooling1D(pool_size=2),\n",
    "         Flatten(),\n",
    "         Dense(1,activation='sigmoid')]\n",
    "\n",
    "# Section 2:  Previous Architectures with convolution before flatten\n",
    "cnn_4 = [Embedding(input_dim=vocab_size, output_dim=128, input_shape=(500,), name=\"Input\"),\n",
    "         Conv1D(100, 7, activation='relu'),\n",
    "         MaxPooling1D(pool_size=2),\n",
    "         Conv1D(200, 3, activation='relu'),\n",
    "         Flatten(),\n",
    "         Dense(1,activation='sigmoid')]\n",
    "\n",
    "cnn_5 = [Embedding(input_dim=vocab_size, output_dim=128, input_shape=(500,), name=\"Input\"),\n",
    "         Conv1D(100, 7, activation='relu'),\n",
    "         MaxPooling1D(pool_size=2),\n",
    "         Conv1D(200, 3, activation='relu'),\n",
    "         MaxPooling1D(pool_size=2),\n",
    "         Conv1D(400, 3, activation='relu'),\n",
    "         Flatten(),\n",
    "         Dense(1,activation='sigmoid')]\n",
    "\n",
    "cnn_6 = [Embedding(input_dim=vocab_size, output_dim=128, input_shape=(500,), name=\"Input\"),\n",
    "         Conv1D(100, 7, activation='relu'),\n",
    "         MaxPooling1D(pool_size=2),\n",
    "         Conv1D(200, 3, activation='relu'),\n",
    "         MaxPooling1D(pool_size=2),\n",
    "         Conv1D(400, 3, activation='relu'),\n",
    "         MaxPooling1D(pool_size=2),\n",
    "         Conv1D(800, 3, activation='relu'),\n",
    "         Flatten(),\n",
    "         Dense(1,activation='sigmoid')]\n",
    "\n",
    "#  Section 3:  Section 2 archs. with 3 convolutions before flatten\n",
    "cnn_7 = [Embedding(input_dim=vocab_size, output_dim=128, input_shape=(500,), name=\"Input\"),\n",
    "         Conv1D(100, 7, activation='relu'),\n",
    "         MaxPooling1D(pool_size=2),\n",
    "         Conv1D(200, 3, activation='relu'),\n",
    "         Conv1D(200, 3, activation='relu'),\n",
    "         Conv1D(200, 3, activation='relu'),\n",
    "         Flatten(),\n",
    "         Dense(1,activation='sigmoid')]\n",
    "\n",
    "cnn_8 = [Embedding(input_dim=vocab_size, output_dim=128, input_shape=(500,), name=\"Input\"),\n",
    "         Conv1D(100, 7, activation='relu'),\n",
    "         MaxPooling1D(pool_size=2),\n",
    "         Conv1D(200, 3, activation='relu'),\n",
    "         MaxPooling1D(pool_size=2),\n",
    "         Conv1D(400, 3, activation='relu'),\n",
    "         Conv1D(400, 3, activation='relu'),\n",
    "         Conv1D(400, 3, activation='relu'),\n",
    "         Flatten(),\n",
    "         Dense(1,activation='sigmoid')]\n",
    "\n",
    "cnn_9 = [Embedding(input_dim=vocab_size, output_dim=128, input_shape=(500,), name=\"Input\"),\n",
    "         Conv1D(100, 7, activation='relu'),\n",
    "         MaxPooling1D(pool_size=2),\n",
    "         Conv1D(200, 3, activation='relu'),\n",
    "         MaxPooling1D(pool_size=2),\n",
    "         Conv1D(400, 3, activation='relu'),\n",
    "         MaxPooling1D(pool_size=2),\n",
    "         Conv1D(800, 3, activation='relu'),\n",
    "         Conv1D(800, 3, activation='relu'),\n",
    "         Conv1D(800, 3, activation='relu'),\n",
    "         Flatten(),\n",
    "         Dense(1,activation='sigmoid')]\n",
    "\n",
    "#\n",
    "# Section 4:  Sections 1,2,3 archs with a single dense layer before output layer\n",
    "#\n",
    "cnn_10 = [Embedding(input_dim=vocab_size, output_dim=128, input_shape=(500,), name=\"Input\"),\n",
    "         Conv1D(100, 7, activation='relu'),\n",
    "         MaxPooling1D(pool_size=2),\n",
    "         Flatten(),\n",
    "         Dense(100, activation='relu'),\n",
    "         Dense(1,activation='sigmoid')]\n",
    "\n",
    "cnn_11 = [Embedding(input_dim=vocab_size, output_dim=128, input_shape=(500,), name=\"Input\"),\n",
    "         Conv1D(100, 7, activation='relu'),\n",
    "         MaxPooling1D(pool_size=2),\n",
    "         Conv1D(200, 3, activation='relu'),\n",
    "         MaxPooling1D(pool_size=2),\n",
    "         Flatten(),\n",
    "         Dense(100, activation='relu'),\n",
    "         Dense(1,activation='sigmoid')]\n",
    "\n",
    "cnn_12 = [Embedding(input_dim=vocab_size, output_dim=128, input_shape=(500,), name=\"Input\"),\n",
    "         Conv1D(100, 7, activation='relu'),\n",
    "         MaxPooling1D(pool_size=2),\n",
    "         Conv1D(200, 3, activation='relu'),\n",
    "         MaxPooling1D(pool_size=2),\n",
    "         Conv1D(400, 3, activation='relu'),\n",
    "         MaxPooling1D(pool_size=2),\n",
    "         Flatten(),\n",
    "         Dense(100, activation='relu'),\n",
    "         Dense(1,activation='sigmoid')]\n",
    "\n",
    "cnn_13 = [Embedding(input_dim=vocab_size, output_dim=128, input_shape=(500,), name=\"Input\"),\n",
    "         Conv1D(100, 7, activation='relu'),\n",
    "         MaxPooling1D(pool_size=2),\n",
    "         Conv1D(200, 3, activation='relu'),\n",
    "         Flatten(),\n",
    "         Dense(100, activation='relu'),\n",
    "         Dense(1,activation='sigmoid')]\n",
    "\n",
    "cnn_14 = [Embedding(input_dim=vocab_size, output_dim=128, input_shape=(500,), name=\"Input\"),\n",
    "         Conv1D(100, 7, activation='relu'),\n",
    "         MaxPooling1D(pool_size=2),\n",
    "         Conv1D(200, 3, activation='relu'),\n",
    "         MaxPooling1D(pool_size=2),\n",
    "         Conv1D(400, 3, activation='relu'),\n",
    "         Flatten(),\n",
    "         Dense(100, activation='relu'),\n",
    "         Dense(1,activation='sigmoid')]\n",
    "\n",
    "cnn_15 = [Embedding(input_dim=vocab_size, output_dim=128, input_shape=(500,), name=\"Input\"),\n",
    "         Conv1D(100, 7, activation='relu'),\n",
    "         MaxPooling1D(pool_size=2),\n",
    "         Conv1D(200, 3, activation='relu'),\n",
    "         MaxPooling1D(pool_size=2),\n",
    "         Conv1D(400, 3, activation='relu'),\n",
    "         MaxPooling1D(pool_size=2),\n",
    "         Conv1D(800, 3, activation='relu'),\n",
    "         Flatten(),\n",
    "         Dense(100, activation='relu'),\n",
    "         Dense(1,activation='sigmoid')]\n",
    "\n",
    "cnn_16 = [Embedding(input_dim=vocab_size, output_dim=128, input_shape=(500,), name=\"Input\"),\n",
    "         Conv1D(100, 7, activation='relu'),\n",
    "         MaxPooling1D(pool_size=2),\n",
    "         Conv1D(200, 3, activation='relu'),\n",
    "         Conv1D(200, 3, activation='relu'),\n",
    "         Conv1D(200, 3, activation='relu'),\n",
    "         Flatten(),\n",
    "         Dense(100, activation='relu'),\n",
    "         Dense(1,activation='sigmoid')]\n",
    "\n",
    "cnn_17 = [Embedding(input_dim=vocab_size, output_dim=128, input_shape=(500,), name=\"Input\"),\n",
    "         Conv1D(100, 7, activation='relu'),\n",
    "         MaxPooling1D(pool_size=2),\n",
    "         Conv1D(200, 3, activation='relu'),\n",
    "         MaxPooling1D(pool_size=2),\n",
    "         Conv1D(400, 3, activation='relu'),\n",
    "         Conv1D(400, 3, activation='relu'),\n",
    "         Conv1D(400, 3, activation='relu'),\n",
    "         Flatten(),\n",
    "         Dense(100, activation='relu'),\n",
    "         Dense(1,activation='sigmoid')]\n",
    "\n",
    "cnn_18 = [Embedding(input_dim=vocab_size, output_dim=128, input_shape=(500,), name=\"Input\"),\n",
    "         Conv1D(100, 7, activation='relu'),\n",
    "         MaxPooling1D(pool_size=2),\n",
    "         Conv1D(200, 3, activation='relu'),\n",
    "         MaxPooling1D(pool_size=2),\n",
    "         Conv1D(400, 3, activation='relu'),\n",
    "         MaxPooling1D(pool_size=2),\n",
    "         Conv1D(800, 3, activation='relu'),\n",
    "         Conv1D(800, 3, activation='relu'),\n",
    "         Conv1D(800, 3, activation='relu'),\n",
    "         Flatten(),\n",
    "         Dense(100, activation='relu'),\n",
    "         Dense(1,activation='sigmoid')]\n",
    "\n",
    "#\n",
    "# Section 5:  Section 4 archs with 2 dense layers before output layer\n",
    "#\n",
    "cnn_19 = [Embedding(input_dim=vocab_size, output_dim=128, input_shape=(500,), name=\"Input\"),\n",
    "         Conv1D(100, 7, activation='relu'),\n",
    "         MaxPooling1D(pool_size=2),\n",
    "         Flatten(),\n",
    "         Dense(100, activation='relu'),\n",
    "         Dense(1,activation='sigmoid')]\n",
    "\n",
    "cnn_20 = [Embedding(input_dim=vocab_size, output_dim=128, input_shape=(500,), name=\"Input\"),\n",
    "         Conv1D(100, 7, activation='relu'),\n",
    "         MaxPooling1D(pool_size=2),\n",
    "         Conv1D(200, 3, activation='relu'),\n",
    "         MaxPooling1D(pool_size=2),\n",
    "         Flatten(),\n",
    "         Dense(100, activation='relu'),\n",
    "         Dense(100, activation='relu'),\n",
    "         Dense(1,activation='sigmoid')]\n",
    "\n",
    "cnn_21 = [Embedding(input_dim=vocab_size, output_dim=128, input_shape=(500,), name=\"Input\"),\n",
    "         Conv1D(100, 7, activation='relu'),\n",
    "         MaxPooling1D(pool_size=2),\n",
    "         Conv1D(200, 3, activation='relu'),\n",
    "         MaxPooling1D(pool_size=2),\n",
    "         Conv1D(400, 3, activation='relu'),\n",
    "         MaxPooling1D(pool_size=2),\n",
    "         Flatten(),\n",
    "         Dense(100, activation='relu'),\n",
    "         Dense(100, activation='relu'),\n",
    "         Dense(1,activation='sigmoid')]\n",
    "\n",
    "cnn_22 = [Embedding(input_dim=vocab_size, output_dim=128, input_shape=(500,), name=\"Input\"),\n",
    "         Conv1D(100, 7, activation='relu'),\n",
    "         MaxPooling1D(pool_size=2),\n",
    "         Conv1D(200, 3, activation='relu'),\n",
    "         Flatten(),\n",
    "         Dense(100, activation='relu'),\n",
    "         Dense(100, activation='relu'),\n",
    "         Dense(1,activation='sigmoid')]\n",
    "\n",
    "cnn_23 = [Embedding(input_dim=vocab_size, output_dim=128, input_shape=(500,), name=\"Input\"),\n",
    "         Conv1D(100, 7, activation='relu'),\n",
    "         MaxPooling1D(pool_size=2),\n",
    "         Conv1D(200, 3, activation='relu'),\n",
    "         MaxPooling1D(pool_size=2),\n",
    "         Conv1D(400, 3, activation='relu'),\n",
    "         Flatten(),\n",
    "         Dense(100, activation='relu'),\n",
    "         Dense(100, activation='relu'),\n",
    "         Dense(1,activation='sigmoid')]\n",
    "\n",
    "cnn_24 = [Embedding(input_dim=vocab_size, output_dim=128, input_shape=(500,), name=\"Input\"),\n",
    "         Conv1D(100, 7, activation='relu'),\n",
    "         MaxPooling1D(pool_size=2),\n",
    "         Conv1D(200, 3, activation='relu'),\n",
    "         MaxPooling1D(pool_size=2),\n",
    "         Conv1D(400, 3, activation='relu'),\n",
    "         MaxPooling1D(pool_size=2),\n",
    "         Conv1D(800, 3, activation='relu'),\n",
    "         Flatten(),\n",
    "         Dense(100, activation='relu'),\n",
    "         Dense(100, activation='relu'),\n",
    "         Dense(1,activation='sigmoid')]\n",
    "\n",
    "cnn_25 = [Embedding(input_dim=vocab_size, output_dim=128, input_shape=(500,), name=\"Input\"),\n",
    "         Conv1D(100, 7, activation='relu'),\n",
    "         MaxPooling1D(pool_size=2),\n",
    "         Conv1D(200, 3, activation='relu'),\n",
    "         Conv1D(200, 3, activation='relu'),\n",
    "         Conv1D(200, 3, activation='relu'),\n",
    "         Flatten(),\n",
    "         Dense(100, activation='relu'),\n",
    "         Dense(100, activation='relu'),\n",
    "         Dense(1,activation='sigmoid')]\n",
    "\n",
    "cnn_26 = [Embedding(input_dim=vocab_size, output_dim=128, input_shape=(500,), name=\"Input\"),\n",
    "         Conv1D(100, 7, activation='relu'),\n",
    "         MaxPooling1D(pool_size=2),\n",
    "         Conv1D(200, 3, activation='relu'),\n",
    "         MaxPooling1D(pool_size=2),\n",
    "         Conv1D(400, 3, activation='relu'),\n",
    "         Conv1D(400, 3, activation='relu'),\n",
    "         Conv1D(400, 3, activation='relu'),\n",
    "         Flatten(),\n",
    "         Dense(100, activation='relu'),\n",
    "         Dense(100, activation='relu'),\n",
    "         Dense(1,activation='sigmoid')]\n",
    "\n",
    "cnn_27 = [Embedding(input_dim=vocab_size, output_dim=128, input_shape=(500,), name=\"Input\"),\n",
    "         Conv1D(100, 7, activation='relu'),\n",
    "         MaxPooling1D(pool_size=2),\n",
    "         Conv1D(200, 3, activation='relu'),\n",
    "         MaxPooling1D(pool_size=2),\n",
    "         Conv1D(400, 3, activation='relu'),\n",
    "         MaxPooling1D(pool_size=2),\n",
    "         Conv1D(800, 3, activation='relu'),\n",
    "         Conv1D(800, 3, activation='relu'),\n",
    "         Conv1D(800, 3, activation='relu'),\n",
    "         Flatten(),\n",
    "         Dense(100, activation='relu'),\n",
    "         Dense(100, activation='relu'),\n",
    "         Dense(1,activation='sigmoid')]\n",
    "\n",
    "\n",
    "cnn_structures.append(cnn_1)\n",
    "cnn_structures.append(cnn_2)\n",
    "cnn_structures.append(cnn_3)\n",
    "cnn_structures.append(cnn_4)\n",
    "cnn_structures.append(cnn_5)\n",
    "cnn_structures.append(cnn_6)\n",
    "cnn_structures.append(cnn_7)\n",
    "cnn_structures.append(cnn_8)\n",
    "cnn_structures.append(cnn_9)\n",
    "cnn_structures.append(cnn_10)\n",
    "cnn_structures.append(cnn_11)\n",
    "cnn_structures.append(cnn_12)\n",
    "cnn_structures.append(cnn_13)\n",
    "cnn_structures.append(cnn_14)\n",
    "cnn_structures.append(cnn_15)\n",
    "cnn_structures.append(cnn_16)\n",
    "cnn_structures.append(cnn_17)\n",
    "cnn_structures.append(cnn_18)\n",
    "cnn_structures.append(cnn_19)\n",
    "cnn_structures.append(cnn_20)\n",
    "cnn_structures.append(cnn_21)\n",
    "cnn_structures.append(cnn_22)\n",
    "cnn_structures.append(cnn_23)\n",
    "cnn_structures.append(cnn_24)\n",
    "cnn_structures.append(cnn_25)\n",
    "cnn_structures.append(cnn_26)\n",
    "cnn_structures.append(cnn_27)"
   ]
  },
  {
   "cell_type": "markdown",
   "id": "fc790b61-c5bc-465f-90f6-0725da87b06b",
   "metadata": {},
   "source": [
    "Below tests each of the architectures listed above for performance.  We can then decide on which architecture is the best for us."
   ]
  },
  {
   "cell_type": "code",
   "execution_count": 6,
   "id": "57f61fdb-2040-42e4-87b1-e3921ac79855",
   "metadata": {
    "execution": {
     "iopub.execute_input": "2023-11-06T22:59:53.020798Z",
     "iopub.status.busy": "2023-11-06T22:59:53.019407Z",
     "iopub.status.idle": "2023-11-06T23:00:56.752649Z",
     "shell.execute_reply": "2023-11-06T23:00:56.750368Z",
     "shell.execute_reply.started": "2023-11-06T22:59:53.020761Z"
    }
   },
   "outputs": [
    {
     "name": "stdout",
     "output_type": "stream",
     "text": [
      "Architecture 1:\n",
      "Epoch 1/20\n",
      "716/716 [==============================] - 17s 15ms/step - loss: 0.3450 - accuracy: 0.8361 - val_loss: 0.2595 - val_accuracy: 0.8930\n",
      "Epoch 2/20\n",
      "716/716 [==============================] - 11s 15ms/step - loss: 0.1614 - accuracy: 0.9382 - val_loss: 0.2769 - val_accuracy: 0.8906\n",
      "Epoch 3/20\n",
      "716/716 [==============================] - 13s 18ms/step - loss: 0.0795 - accuracy: 0.9713 - val_loss: 0.4158 - val_accuracy: 0.8748\n",
      "Epoch 4/20\n",
      "716/716 [==============================] - 11s 15ms/step - loss: 0.0394 - accuracy: 0.9865 - val_loss: 0.5629 - val_accuracy: 0.8722\n",
      "Epoch 5/20\n",
      "712/716 [============================>.] - ETA: 0s - loss: 0.0275 - accuracy: 0.9904"
     ]
    },
    {
     "ename": "KeyboardInterrupt",
     "evalue": "",
     "output_type": "error",
     "traceback": [
      "\u001b[0;31m---------------------------------------------------------------------------\u001b[0m",
      "\u001b[0;31mKeyboardInterrupt\u001b[0m                         Traceback (most recent call last)",
      "Cell \u001b[0;32mIn [6], line 13\u001b[0m\n\u001b[1;32m     10\u001b[0m opt \u001b[38;5;241m=\u001b[39m Adam()\n\u001b[1;32m     11\u001b[0m model_cnn\u001b[38;5;241m.\u001b[39mcompile(optimizer\u001b[38;5;241m=\u001b[39mopt, loss\u001b[38;5;241m=\u001b[39m\u001b[38;5;124m'\u001b[39m\u001b[38;5;124mbinary_crossentropy\u001b[39m\u001b[38;5;124m'\u001b[39m, metrics\u001b[38;5;241m=\u001b[39m[\u001b[38;5;124m\"\u001b[39m\u001b[38;5;124maccuracy\u001b[39m\u001b[38;5;124m\"\u001b[39m])\n\u001b[0;32m---> 13\u001b[0m history_cnn \u001b[38;5;241m=\u001b[39m \u001b[43mmodel_cnn\u001b[49m\u001b[38;5;241;43m.\u001b[39;49m\u001b[43mfit\u001b[49m\u001b[43m(\u001b[49m\u001b[43mx_train\u001b[49m\u001b[43m,\u001b[49m\u001b[43m \u001b[49m\u001b[43my_train\u001b[49m\u001b[43m,\u001b[49m\u001b[43m \u001b[49m\u001b[43mbatch_size\u001b[49m\u001b[38;5;241;43m=\u001b[39;49m\u001b[38;5;241;43m32\u001b[39;49m\u001b[43m,\u001b[49m\u001b[43m \u001b[49m\u001b[43mepochs\u001b[49m\u001b[38;5;241;43m=\u001b[39;49m\u001b[38;5;241;43m20\u001b[39;49m\u001b[43m,\u001b[49m\u001b[43m \u001b[49m\u001b[43mvalidation_data\u001b[49m\u001b[38;5;241;43m=\u001b[39;49m\u001b[43m(\u001b[49m\u001b[43mx_test\u001b[49m\u001b[43m,\u001b[49m\u001b[43m \u001b[49m\u001b[43my_test\u001b[49m\u001b[43m)\u001b[49m\u001b[43m)\u001b[49m\n\u001b[1;32m     14\u001b[0m histories\u001b[38;5;241m.\u001b[39mappend(history_cnn\u001b[38;5;241m.\u001b[39mhistory)\n\u001b[1;32m     15\u001b[0m current_arch \u001b[38;5;241m=\u001b[39m current_arch \u001b[38;5;241m+\u001b[39m \u001b[38;5;241m1\u001b[39m\n",
      "File \u001b[0;32m/usr/local/lib/python3.9/dist-packages/keras/utils/traceback_utils.py:64\u001b[0m, in \u001b[0;36mfilter_traceback.<locals>.error_handler\u001b[0;34m(*args, **kwargs)\u001b[0m\n\u001b[1;32m     62\u001b[0m filtered_tb \u001b[38;5;241m=\u001b[39m \u001b[38;5;28;01mNone\u001b[39;00m\n\u001b[1;32m     63\u001b[0m \u001b[38;5;28;01mtry\u001b[39;00m:\n\u001b[0;32m---> 64\u001b[0m   \u001b[38;5;28;01mreturn\u001b[39;00m \u001b[43mfn\u001b[49m\u001b[43m(\u001b[49m\u001b[38;5;241;43m*\u001b[39;49m\u001b[43margs\u001b[49m\u001b[43m,\u001b[49m\u001b[43m \u001b[49m\u001b[38;5;241;43m*\u001b[39;49m\u001b[38;5;241;43m*\u001b[39;49m\u001b[43mkwargs\u001b[49m\u001b[43m)\u001b[49m\n\u001b[1;32m     65\u001b[0m \u001b[38;5;28;01mexcept\u001b[39;00m \u001b[38;5;167;01mException\u001b[39;00m \u001b[38;5;28;01mas\u001b[39;00m e:  \u001b[38;5;66;03m# pylint: disable=broad-except\u001b[39;00m\n\u001b[1;32m     66\u001b[0m   filtered_tb \u001b[38;5;241m=\u001b[39m _process_traceback_frames(e\u001b[38;5;241m.\u001b[39m__traceback__)\n",
      "File \u001b[0;32m/usr/local/lib/python3.9/dist-packages/keras/engine/training.py:1445\u001b[0m, in \u001b[0;36mModel.fit\u001b[0;34m(self, x, y, batch_size, epochs, verbose, callbacks, validation_split, validation_data, shuffle, class_weight, sample_weight, initial_epoch, steps_per_epoch, validation_steps, validation_batch_size, validation_freq, max_queue_size, workers, use_multiprocessing)\u001b[0m\n\u001b[1;32m   1431\u001b[0m \u001b[38;5;28;01mif\u001b[39;00m \u001b[38;5;28mgetattr\u001b[39m(\u001b[38;5;28mself\u001b[39m, \u001b[38;5;124m'\u001b[39m\u001b[38;5;124m_eval_data_handler\u001b[39m\u001b[38;5;124m'\u001b[39m, \u001b[38;5;28;01mNone\u001b[39;00m) \u001b[38;5;129;01mis\u001b[39;00m \u001b[38;5;28;01mNone\u001b[39;00m:\n\u001b[1;32m   1432\u001b[0m   \u001b[38;5;28mself\u001b[39m\u001b[38;5;241m.\u001b[39m_eval_data_handler \u001b[38;5;241m=\u001b[39m data_adapter\u001b[38;5;241m.\u001b[39mget_data_handler(\n\u001b[1;32m   1433\u001b[0m       x\u001b[38;5;241m=\u001b[39mval_x,\n\u001b[1;32m   1434\u001b[0m       y\u001b[38;5;241m=\u001b[39mval_y,\n\u001b[0;32m   (...)\u001b[0m\n\u001b[1;32m   1443\u001b[0m       model\u001b[38;5;241m=\u001b[39m\u001b[38;5;28mself\u001b[39m,\n\u001b[1;32m   1444\u001b[0m       steps_per_execution\u001b[38;5;241m=\u001b[39m\u001b[38;5;28mself\u001b[39m\u001b[38;5;241m.\u001b[39m_steps_per_execution)\n\u001b[0;32m-> 1445\u001b[0m val_logs \u001b[38;5;241m=\u001b[39m \u001b[38;5;28;43mself\u001b[39;49m\u001b[38;5;241;43m.\u001b[39;49m\u001b[43mevaluate\u001b[49m\u001b[43m(\u001b[49m\n\u001b[1;32m   1446\u001b[0m \u001b[43m    \u001b[49m\u001b[43mx\u001b[49m\u001b[38;5;241;43m=\u001b[39;49m\u001b[43mval_x\u001b[49m\u001b[43m,\u001b[49m\n\u001b[1;32m   1447\u001b[0m \u001b[43m    \u001b[49m\u001b[43my\u001b[49m\u001b[38;5;241;43m=\u001b[39;49m\u001b[43mval_y\u001b[49m\u001b[43m,\u001b[49m\n\u001b[1;32m   1448\u001b[0m \u001b[43m    \u001b[49m\u001b[43msample_weight\u001b[49m\u001b[38;5;241;43m=\u001b[39;49m\u001b[43mval_sample_weight\u001b[49m\u001b[43m,\u001b[49m\n\u001b[1;32m   1449\u001b[0m \u001b[43m    \u001b[49m\u001b[43mbatch_size\u001b[49m\u001b[38;5;241;43m=\u001b[39;49m\u001b[43mvalidation_batch_size\u001b[49m\u001b[43m \u001b[49m\u001b[38;5;129;43;01mor\u001b[39;49;00m\u001b[43m \u001b[49m\u001b[43mbatch_size\u001b[49m\u001b[43m,\u001b[49m\n\u001b[1;32m   1450\u001b[0m \u001b[43m    \u001b[49m\u001b[43msteps\u001b[49m\u001b[38;5;241;43m=\u001b[39;49m\u001b[43mvalidation_steps\u001b[49m\u001b[43m,\u001b[49m\n\u001b[1;32m   1451\u001b[0m \u001b[43m    \u001b[49m\u001b[43mcallbacks\u001b[49m\u001b[38;5;241;43m=\u001b[39;49m\u001b[43mcallbacks\u001b[49m\u001b[43m,\u001b[49m\n\u001b[1;32m   1452\u001b[0m \u001b[43m    \u001b[49m\u001b[43mmax_queue_size\u001b[49m\u001b[38;5;241;43m=\u001b[39;49m\u001b[43mmax_queue_size\u001b[49m\u001b[43m,\u001b[49m\n\u001b[1;32m   1453\u001b[0m \u001b[43m    \u001b[49m\u001b[43mworkers\u001b[49m\u001b[38;5;241;43m=\u001b[39;49m\u001b[43mworkers\u001b[49m\u001b[43m,\u001b[49m\n\u001b[1;32m   1454\u001b[0m \u001b[43m    \u001b[49m\u001b[43muse_multiprocessing\u001b[49m\u001b[38;5;241;43m=\u001b[39;49m\u001b[43muse_multiprocessing\u001b[49m\u001b[43m,\u001b[49m\n\u001b[1;32m   1455\u001b[0m \u001b[43m    \u001b[49m\u001b[43mreturn_dict\u001b[49m\u001b[38;5;241;43m=\u001b[39;49m\u001b[38;5;28;43;01mTrue\u001b[39;49;00m\u001b[43m,\u001b[49m\n\u001b[1;32m   1456\u001b[0m \u001b[43m    \u001b[49m\u001b[43m_use_cached_eval_dataset\u001b[49m\u001b[38;5;241;43m=\u001b[39;49m\u001b[38;5;28;43;01mTrue\u001b[39;49;00m\u001b[43m)\u001b[49m\n\u001b[1;32m   1457\u001b[0m val_logs \u001b[38;5;241m=\u001b[39m {\u001b[38;5;124m'\u001b[39m\u001b[38;5;124mval_\u001b[39m\u001b[38;5;124m'\u001b[39m \u001b[38;5;241m+\u001b[39m name: val \u001b[38;5;28;01mfor\u001b[39;00m name, val \u001b[38;5;129;01min\u001b[39;00m val_logs\u001b[38;5;241m.\u001b[39mitems()}\n\u001b[1;32m   1458\u001b[0m epoch_logs\u001b[38;5;241m.\u001b[39mupdate(val_logs)\n",
      "File \u001b[0;32m/usr/local/lib/python3.9/dist-packages/keras/utils/traceback_utils.py:64\u001b[0m, in \u001b[0;36mfilter_traceback.<locals>.error_handler\u001b[0;34m(*args, **kwargs)\u001b[0m\n\u001b[1;32m     62\u001b[0m filtered_tb \u001b[38;5;241m=\u001b[39m \u001b[38;5;28;01mNone\u001b[39;00m\n\u001b[1;32m     63\u001b[0m \u001b[38;5;28;01mtry\u001b[39;00m:\n\u001b[0;32m---> 64\u001b[0m   \u001b[38;5;28;01mreturn\u001b[39;00m \u001b[43mfn\u001b[49m\u001b[43m(\u001b[49m\u001b[38;5;241;43m*\u001b[39;49m\u001b[43margs\u001b[49m\u001b[43m,\u001b[49m\u001b[43m \u001b[49m\u001b[38;5;241;43m*\u001b[39;49m\u001b[38;5;241;43m*\u001b[39;49m\u001b[43mkwargs\u001b[49m\u001b[43m)\u001b[49m\n\u001b[1;32m     65\u001b[0m \u001b[38;5;28;01mexcept\u001b[39;00m \u001b[38;5;167;01mException\u001b[39;00m \u001b[38;5;28;01mas\u001b[39;00m e:  \u001b[38;5;66;03m# pylint: disable=broad-except\u001b[39;00m\n\u001b[1;32m     66\u001b[0m   filtered_tb \u001b[38;5;241m=\u001b[39m _process_traceback_frames(e\u001b[38;5;241m.\u001b[39m__traceback__)\n",
      "File \u001b[0;32m/usr/local/lib/python3.9/dist-packages/keras/engine/training.py:1756\u001b[0m, in \u001b[0;36mModel.evaluate\u001b[0;34m(self, x, y, batch_size, verbose, sample_weight, steps, callbacks, max_queue_size, workers, use_multiprocessing, return_dict, **kwargs)\u001b[0m\n\u001b[1;32m   1754\u001b[0m \u001b[38;5;28;01mwith\u001b[39;00m tf\u001b[38;5;241m.\u001b[39mprofiler\u001b[38;5;241m.\u001b[39mexperimental\u001b[38;5;241m.\u001b[39mTrace(\u001b[38;5;124m'\u001b[39m\u001b[38;5;124mtest\u001b[39m\u001b[38;5;124m'\u001b[39m, step_num\u001b[38;5;241m=\u001b[39mstep, _r\u001b[38;5;241m=\u001b[39m\u001b[38;5;241m1\u001b[39m):\n\u001b[1;32m   1755\u001b[0m   callbacks\u001b[38;5;241m.\u001b[39mon_test_batch_begin(step)\n\u001b[0;32m-> 1756\u001b[0m   tmp_logs \u001b[38;5;241m=\u001b[39m \u001b[38;5;28;43mself\u001b[39;49m\u001b[38;5;241;43m.\u001b[39;49m\u001b[43mtest_function\u001b[49m\u001b[43m(\u001b[49m\u001b[43miterator\u001b[49m\u001b[43m)\u001b[49m\n\u001b[1;32m   1757\u001b[0m   \u001b[38;5;28;01mif\u001b[39;00m data_handler\u001b[38;5;241m.\u001b[39mshould_sync:\n\u001b[1;32m   1758\u001b[0m     context\u001b[38;5;241m.\u001b[39masync_wait()\n",
      "File \u001b[0;32m/usr/local/lib/python3.9/dist-packages/tensorflow/python/util/traceback_utils.py:150\u001b[0m, in \u001b[0;36mfilter_traceback.<locals>.error_handler\u001b[0;34m(*args, **kwargs)\u001b[0m\n\u001b[1;32m    148\u001b[0m filtered_tb \u001b[38;5;241m=\u001b[39m \u001b[38;5;28;01mNone\u001b[39;00m\n\u001b[1;32m    149\u001b[0m \u001b[38;5;28;01mtry\u001b[39;00m:\n\u001b[0;32m--> 150\u001b[0m   \u001b[38;5;28;01mreturn\u001b[39;00m \u001b[43mfn\u001b[49m\u001b[43m(\u001b[49m\u001b[38;5;241;43m*\u001b[39;49m\u001b[43margs\u001b[49m\u001b[43m,\u001b[49m\u001b[43m \u001b[49m\u001b[38;5;241;43m*\u001b[39;49m\u001b[38;5;241;43m*\u001b[39;49m\u001b[43mkwargs\u001b[49m\u001b[43m)\u001b[49m\n\u001b[1;32m    151\u001b[0m \u001b[38;5;28;01mexcept\u001b[39;00m \u001b[38;5;167;01mException\u001b[39;00m \u001b[38;5;28;01mas\u001b[39;00m e:\n\u001b[1;32m    152\u001b[0m   filtered_tb \u001b[38;5;241m=\u001b[39m _process_traceback_frames(e\u001b[38;5;241m.\u001b[39m__traceback__)\n",
      "File \u001b[0;32m/usr/local/lib/python3.9/dist-packages/tensorflow/python/eager/def_function.py:915\u001b[0m, in \u001b[0;36mFunction.__call__\u001b[0;34m(self, *args, **kwds)\u001b[0m\n\u001b[1;32m    912\u001b[0m compiler \u001b[38;5;241m=\u001b[39m \u001b[38;5;124m\"\u001b[39m\u001b[38;5;124mxla\u001b[39m\u001b[38;5;124m\"\u001b[39m \u001b[38;5;28;01mif\u001b[39;00m \u001b[38;5;28mself\u001b[39m\u001b[38;5;241m.\u001b[39m_jit_compile \u001b[38;5;28;01melse\u001b[39;00m \u001b[38;5;124m\"\u001b[39m\u001b[38;5;124mnonXla\u001b[39m\u001b[38;5;124m\"\u001b[39m\n\u001b[1;32m    914\u001b[0m \u001b[38;5;28;01mwith\u001b[39;00m OptionalXlaContext(\u001b[38;5;28mself\u001b[39m\u001b[38;5;241m.\u001b[39m_jit_compile):\n\u001b[0;32m--> 915\u001b[0m   result \u001b[38;5;241m=\u001b[39m \u001b[38;5;28;43mself\u001b[39;49m\u001b[38;5;241;43m.\u001b[39;49m\u001b[43m_call\u001b[49m\u001b[43m(\u001b[49m\u001b[38;5;241;43m*\u001b[39;49m\u001b[43margs\u001b[49m\u001b[43m,\u001b[49m\u001b[43m \u001b[49m\u001b[38;5;241;43m*\u001b[39;49m\u001b[38;5;241;43m*\u001b[39;49m\u001b[43mkwds\u001b[49m\u001b[43m)\u001b[49m\n\u001b[1;32m    917\u001b[0m new_tracing_count \u001b[38;5;241m=\u001b[39m \u001b[38;5;28mself\u001b[39m\u001b[38;5;241m.\u001b[39mexperimental_get_tracing_count()\n\u001b[1;32m    918\u001b[0m without_tracing \u001b[38;5;241m=\u001b[39m (tracing_count \u001b[38;5;241m==\u001b[39m new_tracing_count)\n",
      "File \u001b[0;32m/usr/local/lib/python3.9/dist-packages/tensorflow/python/eager/def_function.py:954\u001b[0m, in \u001b[0;36mFunction._call\u001b[0;34m(self, *args, **kwds)\u001b[0m\n\u001b[1;32m    951\u001b[0m \u001b[38;5;28mself\u001b[39m\u001b[38;5;241m.\u001b[39m_lock\u001b[38;5;241m.\u001b[39mrelease()\n\u001b[1;32m    952\u001b[0m \u001b[38;5;66;03m# In this case we have not created variables on the first call. So we can\u001b[39;00m\n\u001b[1;32m    953\u001b[0m \u001b[38;5;66;03m# run the first trace but we should fail if variables are created.\u001b[39;00m\n\u001b[0;32m--> 954\u001b[0m results \u001b[38;5;241m=\u001b[39m \u001b[38;5;28;43mself\u001b[39;49m\u001b[38;5;241;43m.\u001b[39;49m\u001b[43m_stateful_fn\u001b[49m\u001b[43m(\u001b[49m\u001b[38;5;241;43m*\u001b[39;49m\u001b[43margs\u001b[49m\u001b[43m,\u001b[49m\u001b[43m \u001b[49m\u001b[38;5;241;43m*\u001b[39;49m\u001b[38;5;241;43m*\u001b[39;49m\u001b[43mkwds\u001b[49m\u001b[43m)\u001b[49m\n\u001b[1;32m    955\u001b[0m \u001b[38;5;28;01mif\u001b[39;00m \u001b[38;5;28mself\u001b[39m\u001b[38;5;241m.\u001b[39m_created_variables \u001b[38;5;129;01mand\u001b[39;00m \u001b[38;5;129;01mnot\u001b[39;00m ALLOW_DYNAMIC_VARIABLE_CREATION:\n\u001b[1;32m    956\u001b[0m   \u001b[38;5;28;01mraise\u001b[39;00m \u001b[38;5;167;01mValueError\u001b[39;00m(\u001b[38;5;124m\"\u001b[39m\u001b[38;5;124mCreating variables on a non-first call to a function\u001b[39m\u001b[38;5;124m\"\u001b[39m\n\u001b[1;32m    957\u001b[0m                    \u001b[38;5;124m\"\u001b[39m\u001b[38;5;124m decorated with tf.function.\u001b[39m\u001b[38;5;124m\"\u001b[39m)\n",
      "File \u001b[0;32m/usr/local/lib/python3.9/dist-packages/tensorflow/python/eager/function.py:2453\u001b[0m, in \u001b[0;36mFunction.__call__\u001b[0;34m(self, *args, **kwargs)\u001b[0m\n\u001b[1;32m   2450\u001b[0m \u001b[38;5;28;01mwith\u001b[39;00m \u001b[38;5;28mself\u001b[39m\u001b[38;5;241m.\u001b[39m_lock:\n\u001b[1;32m   2451\u001b[0m   (graph_function,\n\u001b[1;32m   2452\u001b[0m    filtered_flat_args) \u001b[38;5;241m=\u001b[39m \u001b[38;5;28mself\u001b[39m\u001b[38;5;241m.\u001b[39m_maybe_define_function(args, kwargs)\n\u001b[0;32m-> 2453\u001b[0m \u001b[38;5;28;01mreturn\u001b[39;00m \u001b[43mgraph_function\u001b[49m\u001b[38;5;241;43m.\u001b[39;49m\u001b[43m_call_flat\u001b[49m\u001b[43m(\u001b[49m\n\u001b[1;32m   2454\u001b[0m \u001b[43m    \u001b[49m\u001b[43mfiltered_flat_args\u001b[49m\u001b[43m,\u001b[49m\u001b[43m \u001b[49m\u001b[43mcaptured_inputs\u001b[49m\u001b[38;5;241;43m=\u001b[39;49m\u001b[43mgraph_function\u001b[49m\u001b[38;5;241;43m.\u001b[39;49m\u001b[43mcaptured_inputs\u001b[49m\u001b[43m)\u001b[49m\n",
      "File \u001b[0;32m/usr/local/lib/python3.9/dist-packages/tensorflow/python/eager/function.py:1860\u001b[0m, in \u001b[0;36mConcreteFunction._call_flat\u001b[0;34m(self, args, captured_inputs, cancellation_manager)\u001b[0m\n\u001b[1;32m   1856\u001b[0m possible_gradient_type \u001b[38;5;241m=\u001b[39m gradients_util\u001b[38;5;241m.\u001b[39mPossibleTapeGradientTypes(args)\n\u001b[1;32m   1857\u001b[0m \u001b[38;5;28;01mif\u001b[39;00m (possible_gradient_type \u001b[38;5;241m==\u001b[39m gradients_util\u001b[38;5;241m.\u001b[39mPOSSIBLE_GRADIENT_TYPES_NONE\n\u001b[1;32m   1858\u001b[0m     \u001b[38;5;129;01mand\u001b[39;00m executing_eagerly):\n\u001b[1;32m   1859\u001b[0m   \u001b[38;5;66;03m# No tape is watching; skip to running the function.\u001b[39;00m\n\u001b[0;32m-> 1860\u001b[0m   \u001b[38;5;28;01mreturn\u001b[39;00m \u001b[38;5;28mself\u001b[39m\u001b[38;5;241m.\u001b[39m_build_call_outputs(\u001b[38;5;28;43mself\u001b[39;49m\u001b[38;5;241;43m.\u001b[39;49m\u001b[43m_inference_function\u001b[49m\u001b[38;5;241;43m.\u001b[39;49m\u001b[43mcall\u001b[49m\u001b[43m(\u001b[49m\n\u001b[1;32m   1861\u001b[0m \u001b[43m      \u001b[49m\u001b[43mctx\u001b[49m\u001b[43m,\u001b[49m\u001b[43m \u001b[49m\u001b[43margs\u001b[49m\u001b[43m,\u001b[49m\u001b[43m \u001b[49m\u001b[43mcancellation_manager\u001b[49m\u001b[38;5;241;43m=\u001b[39;49m\u001b[43mcancellation_manager\u001b[49m\u001b[43m)\u001b[49m)\n\u001b[1;32m   1862\u001b[0m forward_backward \u001b[38;5;241m=\u001b[39m \u001b[38;5;28mself\u001b[39m\u001b[38;5;241m.\u001b[39m_select_forward_and_backward_functions(\n\u001b[1;32m   1863\u001b[0m     args,\n\u001b[1;32m   1864\u001b[0m     possible_gradient_type,\n\u001b[1;32m   1865\u001b[0m     executing_eagerly)\n\u001b[1;32m   1866\u001b[0m forward_function, args_with_tangents \u001b[38;5;241m=\u001b[39m forward_backward\u001b[38;5;241m.\u001b[39mforward()\n",
      "File \u001b[0;32m/usr/local/lib/python3.9/dist-packages/tensorflow/python/eager/function.py:497\u001b[0m, in \u001b[0;36m_EagerDefinedFunction.call\u001b[0;34m(self, ctx, args, cancellation_manager)\u001b[0m\n\u001b[1;32m    495\u001b[0m \u001b[38;5;28;01mwith\u001b[39;00m _InterpolateFunctionError(\u001b[38;5;28mself\u001b[39m):\n\u001b[1;32m    496\u001b[0m   \u001b[38;5;28;01mif\u001b[39;00m cancellation_manager \u001b[38;5;129;01mis\u001b[39;00m \u001b[38;5;28;01mNone\u001b[39;00m:\n\u001b[0;32m--> 497\u001b[0m     outputs \u001b[38;5;241m=\u001b[39m \u001b[43mexecute\u001b[49m\u001b[38;5;241;43m.\u001b[39;49m\u001b[43mexecute\u001b[49m\u001b[43m(\u001b[49m\n\u001b[1;32m    498\u001b[0m \u001b[43m        \u001b[49m\u001b[38;5;28;43mstr\u001b[39;49m\u001b[43m(\u001b[49m\u001b[38;5;28;43mself\u001b[39;49m\u001b[38;5;241;43m.\u001b[39;49m\u001b[43msignature\u001b[49m\u001b[38;5;241;43m.\u001b[39;49m\u001b[43mname\u001b[49m\u001b[43m)\u001b[49m\u001b[43m,\u001b[49m\n\u001b[1;32m    499\u001b[0m \u001b[43m        \u001b[49m\u001b[43mnum_outputs\u001b[49m\u001b[38;5;241;43m=\u001b[39;49m\u001b[38;5;28;43mself\u001b[39;49m\u001b[38;5;241;43m.\u001b[39;49m\u001b[43m_num_outputs\u001b[49m\u001b[43m,\u001b[49m\n\u001b[1;32m    500\u001b[0m \u001b[43m        \u001b[49m\u001b[43minputs\u001b[49m\u001b[38;5;241;43m=\u001b[39;49m\u001b[43margs\u001b[49m\u001b[43m,\u001b[49m\n\u001b[1;32m    501\u001b[0m \u001b[43m        \u001b[49m\u001b[43mattrs\u001b[49m\u001b[38;5;241;43m=\u001b[39;49m\u001b[43mattrs\u001b[49m\u001b[43m,\u001b[49m\n\u001b[1;32m    502\u001b[0m \u001b[43m        \u001b[49m\u001b[43mctx\u001b[49m\u001b[38;5;241;43m=\u001b[39;49m\u001b[43mctx\u001b[49m\u001b[43m)\u001b[49m\n\u001b[1;32m    503\u001b[0m   \u001b[38;5;28;01melse\u001b[39;00m:\n\u001b[1;32m    504\u001b[0m     outputs \u001b[38;5;241m=\u001b[39m execute\u001b[38;5;241m.\u001b[39mexecute_with_cancellation(\n\u001b[1;32m    505\u001b[0m         \u001b[38;5;28mstr\u001b[39m(\u001b[38;5;28mself\u001b[39m\u001b[38;5;241m.\u001b[39msignature\u001b[38;5;241m.\u001b[39mname),\n\u001b[1;32m    506\u001b[0m         num_outputs\u001b[38;5;241m=\u001b[39m\u001b[38;5;28mself\u001b[39m\u001b[38;5;241m.\u001b[39m_num_outputs,\n\u001b[0;32m   (...)\u001b[0m\n\u001b[1;32m    509\u001b[0m         ctx\u001b[38;5;241m=\u001b[39mctx,\n\u001b[1;32m    510\u001b[0m         cancellation_manager\u001b[38;5;241m=\u001b[39mcancellation_manager)\n",
      "File \u001b[0;32m/usr/local/lib/python3.9/dist-packages/tensorflow/python/eager/execute.py:54\u001b[0m, in \u001b[0;36mquick_execute\u001b[0;34m(op_name, num_outputs, inputs, attrs, ctx, name)\u001b[0m\n\u001b[1;32m     52\u001b[0m \u001b[38;5;28;01mtry\u001b[39;00m:\n\u001b[1;32m     53\u001b[0m   ctx\u001b[38;5;241m.\u001b[39mensure_initialized()\n\u001b[0;32m---> 54\u001b[0m   tensors \u001b[38;5;241m=\u001b[39m \u001b[43mpywrap_tfe\u001b[49m\u001b[38;5;241;43m.\u001b[39;49m\u001b[43mTFE_Py_Execute\u001b[49m\u001b[43m(\u001b[49m\u001b[43mctx\u001b[49m\u001b[38;5;241;43m.\u001b[39;49m\u001b[43m_handle\u001b[49m\u001b[43m,\u001b[49m\u001b[43m \u001b[49m\u001b[43mdevice_name\u001b[49m\u001b[43m,\u001b[49m\u001b[43m \u001b[49m\u001b[43mop_name\u001b[49m\u001b[43m,\u001b[49m\n\u001b[1;32m     55\u001b[0m \u001b[43m                                      \u001b[49m\u001b[43minputs\u001b[49m\u001b[43m,\u001b[49m\u001b[43m \u001b[49m\u001b[43mattrs\u001b[49m\u001b[43m,\u001b[49m\u001b[43m \u001b[49m\u001b[43mnum_outputs\u001b[49m\u001b[43m)\u001b[49m\n\u001b[1;32m     56\u001b[0m \u001b[38;5;28;01mexcept\u001b[39;00m core\u001b[38;5;241m.\u001b[39m_NotOkStatusException \u001b[38;5;28;01mas\u001b[39;00m e:\n\u001b[1;32m     57\u001b[0m   \u001b[38;5;28;01mif\u001b[39;00m name \u001b[38;5;129;01mis\u001b[39;00m \u001b[38;5;129;01mnot\u001b[39;00m \u001b[38;5;28;01mNone\u001b[39;00m:\n",
      "\u001b[0;31mKeyboardInterrupt\u001b[0m: "
     ]
    }
   ],
   "source": [
    "histories = []\n",
    "current_arch = 1\n",
    "\n",
    "# Uncomment for specific arch. testing\n",
    "cnn_structures = [cnn_22]\n",
    "\n",
    "for arch in cnn_structures:\n",
    "    print(f\"Architecture {current_arch}:\")\n",
    "    model_cnn = Sequential(arch)\n",
    "    opt = Adam()\n",
    "    model_cnn.compile(optimizer=opt, loss='binary_crossentropy', metrics=[\"accuracy\"])\n",
    "    \n",
    "    history_cnn = model_cnn.fit(x_train, y_train, batch_size=32, epochs=20, validation_data=(x_test, y_test))\n",
    "    histories.append(history_cnn.history)\n",
    "    current_arch = current_arch + 1\n",
    "    \n",
    "# fileObj = open('history_dicts.obj', 'wb')\n",
    "# pickle.dump(histories,fileObj)\n",
    "# fileObj.close()    "
   ]
  },
  {
   "cell_type": "markdown",
   "id": "be3b9acb-9199-4649-bb67-e233957a9a5b",
   "metadata": {},
   "source": [
    "The cell below plots the loss functions and training/test accuracies specifically for Architecture 22, the architecture used for the final model."
   ]
  },
  {
   "cell_type": "code",
   "execution_count": 81,
   "id": "427f9c59-73f4-449e-9264-9a6c3ffa2139",
   "metadata": {
    "execution": {
     "iopub.execute_input": "2023-11-04T18:02:07.461503Z",
     "iopub.status.busy": "2023-11-04T18:02:07.461015Z",
     "iopub.status.idle": "2023-11-04T18:02:07.688420Z",
     "shell.execute_reply": "2023-11-04T18:02:07.687350Z",
     "shell.execute_reply.started": "2023-11-04T18:02:07.461475Z"
    }
   },
   "outputs": [
    {
     "data": {
      "image/png": "[encoded data removed]",
      "text/plain": [
       "<Figure size 640x480 with 1 Axes>"
      ]
     },
     "metadata": {},
     "output_type": "display_data"
    }
   ],
   "source": [
    "arch = 22\n",
    "\n",
    "import matplotlib.pyplot as plt\n",
    "import numpy as np\n",
    "import seaborn as sns\n",
    "\n",
    "sns.set_style(\"darkgrid\")\n",
    "plt.plot(history_df.iloc[arch-1,0], label='training_loss')             # training_loss\n",
    "plt.plot(history_df.iloc[arch-1,1], label='accuracy')                  # accuracy\n",
    "plt.plot(history_df.iloc[arch-1,2], label='validation_loss')           # validation_loss\n",
    "plt.plot(history_df.iloc[arch-1,3], label='validation_accuracy')       # validation_accuracy\n",
    "plt.axhline(y=0.3, color='yellow', linestyle='--')\n",
    "plt.legend(loc=\"upper left\")\n",
    "plt.show()"
   ]
  },
  {
   "cell_type": "markdown",
   "id": "0e21afab-a514-4fae-aaad-0b51fe731b47",
   "metadata": {},
   "source": [
    "The following cell compiles the final CNN after modifications."
   ]
  },
  {
   "cell_type": "code",
   "execution_count": 77,
   "id": "e1e962c7-c8f9-4fc1-b1a9-ae124d804cb0",
   "metadata": {
    "execution": {
     "iopub.execute_input": "2023-11-07T01:22:40.871875Z",
     "iopub.status.busy": "2023-11-07T01:22:40.871455Z",
     "iopub.status.idle": "2023-11-07T01:22:40.958076Z",
     "shell.execute_reply": "2023-11-07T01:22:40.957060Z",
     "shell.execute_reply.started": "2023-11-07T01:22:40.871847Z"
    },
    "id": "e1e962c7-c8f9-4fc1-b1a9-ae124d804cb0",
    "tags": []
   },
   "outputs": [],
   "source": [
    "model1 = Sequential([\n",
    "    \n",
    "    # Selected unmodified architecture from prior testing:\n",
    "    # cnn_22 = [Embedding(input_dim=vocab_size, output_dim=128, input_shape=(500,), name=\"Input\"),\n",
    "    #      Conv1D(100, 7, activation='relu'),\n",
    "    #      MaxPooling1D(pool_size=2),\n",
    "    #      Conv1D(200, 3, activation='relu'),\n",
    "    #      Flatten(),\n",
    "    #      Dense(100, activation='relu'),\n",
    "    #      Dense(100, activation='relu'),\n",
    "    #      Dense(1,activation='sigmoid')]\n",
    "    \n",
    "    # Embedding\n",
    "    Embedding(input_dim=vocab_size, output_dim=128, input_shape=(500,), name=\"Input\"),\n",
    "    \n",
    "    # Convolution Portion\n",
    "    Conv1D(100, 7, activation='relu'),# kernel_regularizer='l1'),\n",
    "    MaxPooling1D(pool_size=2),\n",
    "    \n",
    "    Conv1D(200, 3, activation='relu'),\n",
    "    \n",
    "    \n",
    "    Flatten(),\n",
    "    \n",
    "    # Fully connected Portion\n",
    "    Dense(15, activation='relu'),\n",
    "    Dropout(0.2),\n",
    "    Dense(5, activation='relu'),\n",
    "    Dense(1,activation='sigmoid')])\n",
    "\n",
    "# Optimization algorithm and model compilation\n",
    "opt = Adam(learning_rate=0.000005)\n",
    "model1.compile(optimizer=opt, loss='binary_crossentropy', metrics=[\"accuracy\"])"
   ]
  },
  {
   "cell_type": "code",
   "execution_count": 78,
   "id": "aa06e271-b4f2-4f22-a1d8-42e2f2f03459",
   "metadata": {
    "colab": {
     "base_uri": "https://localhost:8080/"
    },
    "execution": {
     "iopub.execute_input": "2023-11-07T01:22:42.049744Z",
     "iopub.status.busy": "2023-11-07T01:22:42.049390Z",
     "iopub.status.idle": "2023-11-07T01:22:42.077677Z",
     "shell.execute_reply": "2023-11-07T01:22:42.076673Z",
     "shell.execute_reply.started": "2023-11-07T01:22:42.049716Z"
    },
    "id": "aa06e271-b4f2-4f22-a1d8-42e2f2f03459",
    "outputId": "bccb7bda-e56d-44a4-b2c5-f0f90b2ce658",
    "tags": []
   },
   "outputs": [
    {
     "name": "stdout",
     "output_type": "stream",
     "text": [
      "Model: \"sequential_30\"\n",
      "_________________________________________________________________\n",
      " Layer (type)                Output Shape              Param #   \n",
      "=================================================================\n",
      " Input (Embedding)           (None, 500, 128)          1280000   \n",
      "                                                                 \n",
      " conv1d_238 (Conv1D)         (None, 494, 100)          89700     \n",
      "                                                                 \n",
      " max_pooling1d_137 (MaxPooli  (None, 247, 100)         0         \n",
      " ng1D)                                                           \n",
      "                                                                 \n",
      " conv1d_239 (Conv1D)         (None, 245, 200)          60200     \n",
      "                                                                 \n",
      " flatten_83 (Flatten)        (None, 49000)             0         \n",
      "                                                                 \n",
      " dense_193 (Dense)           (None, 15)                735015    \n",
      "                                                                 \n",
      " dropout_3 (Dropout)         (None, 15)                0         \n",
      "                                                                 \n",
      " dense_194 (Dense)           (None, 5)                 80        \n",
      "                                                                 \n",
      " dense_195 (Dense)           (None, 1)                 6         \n",
      "                                                                 \n",
      "=================================================================\n",
      "Total params: 2,165,001\n",
      "Trainable params: 2,165,001\n",
      "Non-trainable params: 0\n",
      "_________________________________________________________________\n"
     ]
    }
   ],
   "source": [
    "model1.summary()"
   ]
  },
  {
   "cell_type": "code",
   "execution_count": 79,
   "id": "24e7d8b8-5a95-444f-8714-3997cb964a62",
   "metadata": {
    "colab": {
     "base_uri": "https://localhost:8080/"
    },
    "execution": {
     "iopub.execute_input": "2023-11-07T01:23:31.719779Z",
     "iopub.status.busy": "2023-11-07T01:23:31.719357Z",
     "iopub.status.idle": "2023-11-07T01:33:13.313697Z",
     "shell.execute_reply": "2023-11-07T01:33:13.312455Z",
     "shell.execute_reply.started": "2023-11-07T01:23:31.719748Z"
    },
    "id": "24e7d8b8-5a95-444f-8714-3997cb964a62",
    "outputId": "2a435325-3b04-440b-d3a4-8602048a936d",
    "tags": []
   },
   "outputs": [
    {
     "name": "stdout",
     "output_type": "stream",
     "text": [
      "Epoch 1/10\n",
      "5721/5721 [==============================] - 57s 10ms/step - loss: 0.6932 - accuracy: 0.5031 - val_loss: 0.6931 - val_accuracy: 0.5032\n",
      "Epoch 2/10\n",
      "5721/5721 [==============================] - 57s 10ms/step - loss: 0.6926 - accuracy: 0.5172 - val_loss: 0.6927 - val_accuracy: 0.5132\n",
      "Epoch 3/10\n",
      "5721/5721 [==============================] - 60s 10ms/step - loss: 0.6915 - accuracy: 0.5280 - val_loss: 0.6914 - val_accuracy: 0.5240\n",
      "Epoch 4/10\n",
      "5721/5721 [==============================] - 57s 10ms/step - loss: 0.6844 - accuracy: 0.5739 - val_loss: 0.6718 - val_accuracy: 0.6572\n",
      "Epoch 5/10\n",
      "5721/5721 [==============================] - 58s 10ms/step - loss: 0.6302 - accuracy: 0.6768 - val_loss: 0.5586 - val_accuracy: 0.7599\n",
      "Epoch 6/10\n",
      "5721/5721 [==============================] - 58s 10ms/step - loss: 0.5045 - accuracy: 0.7658 - val_loss: 0.4274 - val_accuracy: 0.8223\n",
      "Epoch 7/10\n",
      "5721/5721 [==============================] - 59s 10ms/step - loss: 0.4137 - accuracy: 0.8123 - val_loss: 0.3708 - val_accuracy: 0.8431\n",
      "Epoch 8/10\n",
      "5721/5721 [==============================] - 59s 10ms/step - loss: 0.3610 - accuracy: 0.8420 - val_loss: 0.3367 - val_accuracy: 0.8588\n",
      "Epoch 9/10\n",
      "5721/5721 [==============================] - 58s 10ms/step - loss: 0.3270 - accuracy: 0.8631 - val_loss: 0.3281 - val_accuracy: 0.8611\n",
      "Epoch 10/10\n",
      "5721/5721 [==============================] - 59s 10ms/step - loss: 0.2986 - accuracy: 0.8822 - val_loss: 0.3059 - val_accuracy: 0.8744\n"
     ]
    }
   ],
   "source": [
    "history1 = model1.fit(x_train, y_train, batch_size=4, epochs=10, validation_data=(x_test, y_test))\n",
    "#history1 = model1.fit(x_train, y_train, epochs=30, validation_data=(x_test, y_test))"
   ]
  },
  {
   "cell_type": "code",
   "execution_count": 80,
   "id": "DAMimViKq13d",
   "metadata": {
    "colab": {
     "base_uri": "https://localhost:8080/",
     "height": 487
    },
    "execution": {
     "iopub.execute_input": "2023-11-07T01:33:25.583035Z",
     "iopub.status.busy": "2023-11-07T01:33:25.582679Z",
     "iopub.status.idle": "2023-11-07T01:33:25.841515Z",
     "shell.execute_reply": "2023-11-07T01:33:25.840752Z",
     "shell.execute_reply.started": "2023-11-07T01:33:25.583008Z"
    },
    "id": "DAMimViKq13d",
    "outputId": "5c3fb0bb-4acf-44f3-ba82-c74b7e914441"
   },
   "outputs": [
    {
     "data": {
      "image/png": "[encoded data removed]",
      "text/plain": [
       "<Figure size 800x500 with 1 Axes>"
      ]
     },
     "metadata": {},
     "output_type": "display_data"
    }
   ],
   "source": [
    "fig = pd.DataFrame(history1.history).plot(figsize=(8,5))\n",
    "plt.grid(True)\n",
    "plt.gca().set_ylim(0,1)\n",
    "plt.ylabel(\"Value\")\n",
    "plt.xlabel(\"Epoch\")\n",
    "plt.title(\"CNN Metrics\")\n",
    "plt.show()"
   ]
  },
  {
   "cell_type": "code",
   "execution_count": null,
   "id": "pWMCdypKQ6Mk",
   "metadata": {
    "id": "pWMCdypKQ6Mk"
   },
   "outputs": [],
   "source": [
    "model1.save(\"imdb_CNN_1.keras\")\n",
    "fileObj = open('history1_1.obj', 'wb')\n",
    "pickle.dump(history1,fileObj)\n",
    "fileObj.close()"
   ]
  },
  {
   "cell_type": "markdown",
   "id": "422e8aa1-7f48-4395-a3bb-7734567a0135",
   "metadata": {},
   "source": [
    "# Recurrent Neural Networks (RNNs)\n",
    "\n",
    "This portion of the notebook plays with RNNs."
   ]
  },
  {
   "cell_type": "code",
   "execution_count": 9,
   "id": "a74440e2-53d7-4e94-a17f-46f8291170eb",
   "metadata": {
    "execution": {
     "iopub.execute_input": "2023-11-06T00:41:38.273633Z",
     "iopub.status.busy": "2023-11-06T00:41:38.272710Z",
     "iopub.status.idle": "2023-11-06T00:41:48.307045Z",
     "shell.execute_reply": "2023-11-06T00:41:48.306091Z",
     "shell.execute_reply.started": "2023-11-06T00:41:38.273604Z"
    },
    "id": "5756e967-461e-4ca7-9739-6fd47af3e2c3",
    "tags": []
   },
   "outputs": [],
   "source": [
    "# Data Import\n",
    "\n",
    "(x_train, y_train), (x_test, y_test) = imdb.load_data()\n",
    "\n",
    "vocab_size = 10000\n",
    "maxLen = 500\n",
    "\n",
    "(x_train, y_train), (x_test, y_test) = imdb.load_data(path=\"imbd.npz\",\n",
    "                                                      num_words=vocab_size,\n",
    "                                                      skip_top=0,\n",
    "                                                      maxlen=maxLen,\n",
    "                                                      seed=113,\n",
    "                                                      start_char=1,\n",
    "                                                      oov_char=2,\n",
    "                                                      index_from=3)\n",
    "\n",
    "x_train = sequence.pad_sequences(x_train, maxlen=maxLen)#, maxlen=maxLen)  # maxLen)\n",
    "x_test = sequence.pad_sequences(x_test, maxlen=maxLen)#, maxlen=maxLen)    # maxLen)"
   ]
  },
  {
   "cell_type": "markdown",
   "id": "3e456413-cabb-4c2b-a353-835396e0ac5b",
   "metadata": {},
   "source": [
    "In the cell below, we implement a function that will allow us to perform random search for hyperparameters in our given architecture."
   ]
  },
  {
   "cell_type": "code",
   "execution_count": 3,
   "id": "dbc1998b-5cc1-46f5-9a05-e5a48b5e5cf9",
   "metadata": {
    "execution": {
     "iopub.execute_input": "2023-11-06T15:02:11.790632Z",
     "iopub.status.busy": "2023-11-06T15:02:11.789698Z",
     "iopub.status.idle": "2023-11-06T15:02:11.801102Z",
     "shell.execute_reply": "2023-11-06T15:02:11.800066Z",
     "shell.execute_reply.started": "2023-11-06T15:02:11.790571Z"
    }
   },
   "outputs": [],
   "source": [
    "import random\n",
    "\n",
    "initializers = ['constant', 'glorot_normal', 'glorot_uniform', 'he_normal',\n",
    "                'he_uniform','identity', 'lecun_normal', 'lecun_uniform', \n",
    "                'ones', 'orthogonal', 'random_normal', 'random_uniform',\n",
    "                'truncated_normal', 'variance_scaling', 'zeros']\n",
    "\n",
    "regularizers = [None,'l1','l2']\n",
    "\n",
    "constraints = [None,'max_norm','min_max_norm','non_neg', 'unit_norm']\n",
    "\n",
    "def random_rnn_config(initializer, regularizers, constraints):\n",
    "    size = random.choice([16,32,64,128,256])\n",
    "    ki1 = random.choice(initializers)\n",
    "    ri1 = random.choice(initializers)\n",
    "    bi1 = random.choice(initializers)\n",
    "    kr1 = random.choice(regularizers)\n",
    "    rr1 = random.choice(regularizers)\n",
    "    br1 = random.choice(regularizers)\n",
    "    ar1 = random.choice(regularizers)\n",
    "    kc1 = random.choice(constraints)\n",
    "    bc1 = random.choice(constraints)\n",
    "    do1 = random.choice([0.0, np.random.uniform(0.0,0.8)])\n",
    "    ki2 = random.choice(initializers)\n",
    "    ri2 = random.choice(initializers)\n",
    "    bi2 = random.choice(initializers)\n",
    "    kr2 = random.choice(regularizers)\n",
    "    rr2 = random.choice(regularizers)\n",
    "    br2 = random.choice(regularizers)\n",
    "    ar2 = random.choice(regularizers)\n",
    "    kc2 = random.choice(constraints)\n",
    "    bc2 = random.choice(constraints)\n",
    "    do2 = random.choice([0.0, np.random.uniform(0.0,0.8)])\n",
    "\n",
    "    return [size, ki1, ri1, bi1, kr1, rr1, br1, ar1, kc1, bc1, do1,\n",
    "            ki2, ri2, bi2, kr2, rr2, br2, ar2, kc2, bc2, do2]\n",
    "    "
   ]
  },
  {
   "cell_type": "code",
   "execution_count": 92,
   "id": "80a41ea8-d580-47e5-bfc7-0bbfddc26f94",
   "metadata": {
    "colab": {
     "base_uri": "https://localhost:8080/"
    },
    "execution": {
     "iopub.execute_input": "2023-11-07T02:25:58.342511Z",
     "iopub.status.busy": "2023-11-07T02:25:58.341511Z",
     "iopub.status.idle": "2023-11-07T02:55:30.848070Z",
     "shell.execute_reply": "2023-11-07T02:55:30.846925Z",
     "shell.execute_reply.started": "2023-11-07T02:25:58.342482Z"
    },
    "id": "80a41ea8-d580-47e5-bfc7-0bbfddc26f94",
    "outputId": "8a8b8874-a475-4c13-f1b9-c69400aa6f63"
   },
   "outputs": [
    {
     "name": "stdout",
     "output_type": "stream",
     "text": [
      "Epoch 1/40\n",
      "716/716 [==============================] - 49s 63ms/step - loss: 24.4936 - accuracy: 0.4967 - val_loss: 13.8992 - val_accuracy: 0.5026\n",
      "Epoch 2/40\n",
      "716/716 [==============================] - 45s 63ms/step - loss: 8.8224 - accuracy: 0.4999 - val_loss: 5.2921 - val_accuracy: 0.5026\n",
      "Epoch 3/40\n",
      "716/716 [==============================] - 45s 63ms/step - loss: 4.4081 - accuracy: 0.5044 - val_loss: 3.2512 - val_accuracy: 0.5026\n",
      "Epoch 4/40\n",
      "716/716 [==============================] - 43s 60ms/step - loss: 3.3394 - accuracy: 0.5045 - val_loss: 2.7154 - val_accuracy: 0.5026\n",
      "Epoch 5/40\n",
      "716/716 [==============================] - 45s 63ms/step - loss: 3.0009 - accuracy: 0.5040 - val_loss: 2.5372 - val_accuracy: 0.5026\n",
      "Epoch 6/40\n",
      "716/716 [==============================] - 45s 63ms/step - loss: 2.8414 - accuracy: 0.5069 - val_loss: 2.4443 - val_accuracy: 0.5475\n",
      "Epoch 7/40\n",
      "716/716 [==============================] - 44s 62ms/step - loss: 2.7318 - accuracy: 0.5099 - val_loss: 2.3686 - val_accuracy: 0.5170\n",
      "Epoch 8/40\n",
      "716/716 [==============================] - 43s 60ms/step - loss: 2.6361 - accuracy: 0.5264 - val_loss: 2.2925 - val_accuracy: 0.5417\n",
      "Epoch 9/40\n",
      "716/716 [==============================] - 51s 71ms/step - loss: 2.5422 - accuracy: 0.5411 - val_loss: 2.2131 - val_accuracy: 0.6360\n",
      "Epoch 10/40\n",
      "716/716 [==============================] - 43s 60ms/step - loss: 2.4430 - accuracy: 0.5799 - val_loss: 2.1284 - val_accuracy: 0.6559\n",
      "Epoch 11/40\n",
      "716/716 [==============================] - 43s 61ms/step - loss: 2.3346 - accuracy: 0.6204 - val_loss: 2.0247 - val_accuracy: 0.7022\n",
      "Epoch 12/40\n",
      "716/716 [==============================] - 44s 61ms/step - loss: 2.1458 - accuracy: 0.7474 - val_loss: 1.8046 - val_accuracy: 0.8016\n",
      "Epoch 13/40\n",
      "716/716 [==============================] - 45s 63ms/step - loss: 2.0022 - accuracy: 0.8190 - val_loss: 1.7072 - val_accuracy: 0.8371\n",
      "Epoch 14/40\n",
      "716/716 [==============================] - 44s 61ms/step - loss: 1.9319 - accuracy: 0.8391 - val_loss: 1.6405 - val_accuracy: 0.8665\n",
      "Epoch 15/40\n",
      "716/716 [==============================] - 42s 59ms/step - loss: 1.8846 - accuracy: 0.8575 - val_loss: 1.6332 - val_accuracy: 0.8517\n",
      "Epoch 16/40\n",
      "716/716 [==============================] - 43s 60ms/step - loss: 1.8451 - accuracy: 0.8685 - val_loss: 1.5854 - val_accuracy: 0.8711\n",
      "Epoch 17/40\n",
      "716/716 [==============================] - 44s 61ms/step - loss: 1.8114 - accuracy: 0.8735 - val_loss: 1.5710 - val_accuracy: 0.8675\n",
      "Epoch 18/40\n",
      "716/716 [==============================] - 44s 62ms/step - loss: 1.7824 - accuracy: 0.8834 - val_loss: 1.5874 - val_accuracy: 0.8500\n",
      "Epoch 19/40\n",
      "716/716 [==============================] - 42s 59ms/step - loss: 1.7561 - accuracy: 0.8897 - val_loss: 1.5260 - val_accuracy: 0.8795\n",
      "Epoch 20/40\n",
      "716/716 [==============================] - 45s 62ms/step - loss: 1.7322 - accuracy: 0.8921 - val_loss: 1.5449 - val_accuracy: 0.8623\n",
      "Epoch 21/40\n",
      "716/716 [==============================] - 45s 62ms/step - loss: 1.7145 - accuracy: 0.8964 - val_loss: 1.5331 - val_accuracy: 0.8632\n",
      "Epoch 22/40\n",
      "716/716 [==============================] - 43s 60ms/step - loss: 1.6970 - accuracy: 0.8988 - val_loss: 1.5049 - val_accuracy: 0.8803\n",
      "Epoch 23/40\n",
      "716/716 [==============================] - 44s 62ms/step - loss: 1.6831 - accuracy: 0.9008 - val_loss: 1.5260 - val_accuracy: 0.8597\n",
      "Epoch 24/40\n",
      "716/716 [==============================] - 43s 61ms/step - loss: 1.6671 - accuracy: 0.9068 - val_loss: 1.4799 - val_accuracy: 0.8857\n",
      "Epoch 25/40\n",
      "716/716 [==============================] - 44s 61ms/step - loss: 1.6524 - accuracy: 0.9094 - val_loss: 1.5080 - val_accuracy: 0.8659\n",
      "Epoch 26/40\n",
      "716/716 [==============================] - 45s 63ms/step - loss: 1.6415 - accuracy: 0.9087 - val_loss: 1.4887 - val_accuracy: 0.8742\n",
      "Epoch 27/40\n",
      "716/716 [==============================] - 45s 63ms/step - loss: 1.6236 - accuracy: 0.9134 - val_loss: 1.4734 - val_accuracy: 0.8795\n",
      "Epoch 28/40\n",
      "716/716 [==============================] - 44s 62ms/step - loss: 1.6121 - accuracy: 0.9161 - val_loss: 1.4872 - val_accuracy: 0.8727\n",
      "Epoch 29/40\n",
      "716/716 [==============================] - 44s 62ms/step - loss: 1.5986 - accuracy: 0.9181 - val_loss: 1.4731 - val_accuracy: 0.8750\n",
      "Epoch 30/40\n",
      "716/716 [==============================] - 44s 62ms/step - loss: 1.5909 - accuracy: 0.9209 - val_loss: 1.4690 - val_accuracy: 0.8799\n",
      "Epoch 31/40\n",
      "716/716 [==============================] - 43s 60ms/step - loss: 1.5810 - accuracy: 0.9190 - val_loss: 1.4940 - val_accuracy: 0.8692\n",
      "Epoch 32/40\n",
      "716/716 [==============================] - 42s 58ms/step - loss: 1.5609 - accuracy: 0.9245 - val_loss: 1.4834 - val_accuracy: 0.8708\n",
      "Epoch 33/40\n",
      "716/716 [==============================] - 45s 64ms/step - loss: 1.5516 - accuracy: 0.9274 - val_loss: 1.4577 - val_accuracy: 0.8816\n",
      "Epoch 34/40\n",
      "716/716 [==============================] - 46s 64ms/step - loss: 1.5487 - accuracy: 0.9254 - val_loss: 1.4641 - val_accuracy: 0.8783\n",
      "Epoch 35/40\n",
      "716/716 [==============================] - 44s 62ms/step - loss: 1.5364 - accuracy: 0.9307 - val_loss: 1.4583 - val_accuracy: 0.8771\n",
      "Epoch 36/40\n",
      "716/716 [==============================] - 43s 59ms/step - loss: 1.5285 - accuracy: 0.9291 - val_loss: 1.4586 - val_accuracy: 0.8758\n",
      "Epoch 37/40\n",
      "716/716 [==============================] - 45s 63ms/step - loss: 1.5203 - accuracy: 0.9318 - val_loss: 1.4654 - val_accuracy: 0.8783\n",
      "Epoch 38/40\n",
      "716/716 [==============================] - 44s 62ms/step - loss: 1.5189 - accuracy: 0.9303 - val_loss: 1.4592 - val_accuracy: 0.8746\n",
      "Epoch 39/40\n",
      "716/716 [==============================] - 43s 60ms/step - loss: 1.5055 - accuracy: 0.9356 - val_loss: 1.4957 - val_accuracy: 0.8613\n",
      "Epoch 40/40\n",
      "716/716 [==============================] - 45s 62ms/step - loss: 1.5079 - accuracy: 0.9314 - val_loss: 1.4557 - val_accuracy: 0.8745\n"
     ]
    }
   ],
   "source": [
    "configurations_rnn = []\n",
    "histories_rnn = []\n",
    "\n",
    "for i in range(1):\n",
    "    # Change argument in range >1 if random search desired\n",
    "    \n",
    "    # For random search\n",
    "    # config = random_rnn_config(initializers, regularizers, constraints)\n",
    "    # print(config)\n",
    "    # configurations_rnn.append(config)\n",
    "    \n",
    "    # For specific test\n",
    "    config = [32, 'truncated_normal', 'identity', 'lecun_normal', 'l2', 'l2', 'l1', 'l2', 'unit_norm', 'non_neg', 0.4032530557603061, 'zeros', 'random_uniform', 'random_normal', 'l2', 'l2', 'l2', 'l2', 'min_max_norm', None, 0.4061613404389912]\n",
    "    \n",
    "    model_rnn = Sequential([\n",
    "        Embedding(vocab_size, config[0], input_shape=(maxLen,)),\n",
    "\n",
    "        # First GRU\n",
    "        GRU(config[0], \n",
    "            return_sequences=True, \n",
    "            activation='tanh',\n",
    "            kernel_initializer=config[1],\n",
    "            recurrent_initializer=config[2],\n",
    "            bias_initializer=config[3],\n",
    "            kernel_regularizer=config[4],\n",
    "            recurrent_regularizer=config[5],\n",
    "            bias_regularizer=config[6],\n",
    "            activity_regularizer=config[7],\n",
    "            kernel_constraint=config[8],\n",
    "            bias_constraint=config[9],\n",
    "            dropout=config[10],\n",
    "            ),\n",
    "\n",
    "        # Second GRU\n",
    "        GRU(config[0],\n",
    "            activation='tanh',\n",
    "            kernel_initializer=config[11],\n",
    "            recurrent_initializer=config[12],\n",
    "            bias_initializer=config[13],\n",
    "            kernel_regularizer=config[14],\n",
    "            recurrent_regularizer=config[15],\n",
    "            bias_regularizer=config[16],\n",
    "            activity_regularizer=config[17],\n",
    "            kernel_constraint=config[18],\n",
    "            bias_constraint=config[19],\n",
    "            dropout=config[20],\n",
    "            ),\n",
    "\n",
    "        # Output\n",
    "        Dense(1, activation=\"sigmoid\")\n",
    "    ])\n",
    "\n",
    "    opt = Adam(learning_rate=0.0001)\n",
    "    model_rnn.compile(optimizer=opt, loss='binary_crossentropy', metrics=[\"accuracy\"])\n",
    "    history_rnn = model_rnn.fit(x_train, y_train, batch_size=32, epochs=40, validation_data=(x_test, y_test))\n",
    "    histories_rnn.append(history_rnn.history)\n",
    "    \n",
    "# Save Configurations\n",
    "# fileObj = open('configurations_rnn.obj', 'wb')\n",
    "# pickle.dump(configurations_rnn,fileObj)\n",
    "# fileObj.close()    \n",
    "\n",
    "# Save History Dicts\n",
    "# fileObj = open('history_rnn_dicts.obj', 'wb')\n",
    "# pickle.dump(histories_rnn,fileObj)\n",
    "# fileObj.close()    "
   ]
  },
  {
   "cell_type": "code",
   "execution_count": 17,
   "id": "0c10c9c4-8d02-4c87-8ede-67d7bc5c39bd",
   "metadata": {
    "execution": {
     "iopub.execute_input": "2023-11-06T18:44:17.469963Z",
     "iopub.status.busy": "2023-11-06T18:44:17.469583Z",
     "iopub.status.idle": "2023-11-06T18:54:41.066399Z",
     "shell.execute_reply": "2023-11-06T18:54:41.065180Z",
     "shell.execute_reply.started": "2023-11-06T18:44:17.469937Z"
    }
   },
   "outputs": [
    {
     "name": "stdout",
     "output_type": "stream",
     "text": [
      "Epoch 1/15\n",
      "716/716 [==============================] - 38s 53ms/step - loss: 1.8291 - accuracy: 0.8773 - val_loss: 1.6463 - val_accuracy: 0.8556\n",
      "Epoch 2/15\n",
      "716/716 [==============================] - 40s 56ms/step - loss: 1.8009 - accuracy: 0.8841 - val_loss: 1.6036 - val_accuracy: 0.8756\n",
      "Epoch 3/15\n",
      "716/716 [==============================] - 41s 57ms/step - loss: 1.7794 - accuracy: 0.8904 - val_loss: 1.6530 - val_accuracy: 0.8403\n",
      "Epoch 4/15\n",
      "716/716 [==============================] - 40s 56ms/step - loss: 1.7601 - accuracy: 0.8936 - val_loss: 1.6980 - val_accuracy: 0.8187\n",
      "Epoch 5/15\n",
      "716/716 [==============================] - 43s 60ms/step - loss: 1.7377 - accuracy: 0.8996 - val_loss: 1.6151 - val_accuracy: 0.8488\n",
      "Epoch 6/15\n",
      "716/716 [==============================] - 40s 56ms/step - loss: 1.7225 - accuracy: 0.9020 - val_loss: 1.6908 - val_accuracy: 0.8115\n",
      "Epoch 7/15\n",
      "716/716 [==============================] - 42s 59ms/step - loss: 1.7068 - accuracy: 0.9045 - val_loss: 1.6333 - val_accuracy: 0.8350\n",
      "Epoch 8/15\n",
      "716/716 [==============================] - 41s 58ms/step - loss: 1.6982 - accuracy: 0.9059 - val_loss: 1.6647 - val_accuracy: 0.8196\n",
      "Epoch 9/15\n",
      "716/716 [==============================] - 41s 58ms/step - loss: 1.6893 - accuracy: 0.9070 - val_loss: 1.5905 - val_accuracy: 0.8489\n",
      "Epoch 10/15\n",
      "716/716 [==============================] - 42s 58ms/step - loss: 1.6765 - accuracy: 0.9111 - val_loss: 1.6285 - val_accuracy: 0.8286\n",
      "Epoch 11/15\n",
      "716/716 [==============================] - 41s 58ms/step - loss: 1.6633 - accuracy: 0.9144 - val_loss: 1.5891 - val_accuracy: 0.8489\n",
      "Epoch 12/15\n",
      "716/716 [==============================] - 41s 58ms/step - loss: 1.6546 - accuracy: 0.9177 - val_loss: 1.6760 - val_accuracy: 0.8098\n",
      "Epoch 13/15\n",
      "716/716 [==============================] - 41s 58ms/step - loss: 1.6491 - accuracy: 0.9153 - val_loss: 1.6561 - val_accuracy: 0.8181\n",
      "Epoch 14/15\n",
      "716/716 [==============================] - 49s 69ms/step - loss: 1.6405 - accuracy: 0.9164 - val_loss: 1.6389 - val_accuracy: 0.8215\n",
      "Epoch 15/15\n",
      "716/716 [==============================] - 40s 56ms/step - loss: 1.6320 - accuracy: 0.9201 - val_loss: 1.6282 - val_accuracy: 0.8194\n"
     ]
    }
   ],
   "source": [
    "    history_rnn = model_rnn.fit(x_train, y_train, batch_size=32, epochs=15, validation_data=(x_test, y_test))\n",
    "    histories_rnn.append(history_rnn.history)"
   ]
  },
  {
   "cell_type": "markdown",
   "id": "fcfd918e-b76f-4d63-9cf7-7dabc214dac8",
   "metadata": {},
   "source": [
    "None of the parameter sets generated did better than our sample model.  We now try to manually improve on the model that we began with."
   ]
  },
  {
   "cell_type": "code",
   "execution_count": 87,
   "id": "738c5cec-285d-43a5-9774-d4b534c63d5a",
   "metadata": {
    "colab": {
     "base_uri": "https://localhost:8080/"
    },
    "execution": {
     "iopub.execute_input": "2023-11-07T02:11:11.305040Z",
     "iopub.status.busy": "2023-11-07T02:11:11.304673Z",
     "iopub.status.idle": "2023-11-07T02:18:26.065016Z",
     "shell.execute_reply": "2023-11-07T02:18:26.063507Z",
     "shell.execute_reply.started": "2023-11-07T02:11:11.305012Z"
    },
    "id": "738c5cec-285d-43a5-9774-d4b534c63d5a",
    "outputId": "94383596-045f-4d21-d82a-f221c1182bc6",
    "tags": []
   },
   "outputs": [
    {
     "name": "stdout",
     "output_type": "stream",
     "text": [
      "Epoch 1/10\n",
      "716/716 [==============================] - 54s 70ms/step - loss: 0.6929 - accuracy: 0.5258 - val_loss: 0.6926 - val_accuracy: 0.5452\n",
      "Epoch 2/10\n",
      "716/716 [==============================] - 43s 60ms/step - loss: 0.6922 - accuracy: 0.5635 - val_loss: 0.6919 - val_accuracy: 0.5814\n",
      "Epoch 3/10\n",
      "716/716 [==============================] - 43s 60ms/step - loss: 0.6911 - accuracy: 0.5960 - val_loss: 0.6905 - val_accuracy: 0.6070\n",
      "Epoch 4/10\n",
      "716/716 [==============================] - 41s 57ms/step - loss: 0.6888 - accuracy: 0.6329 - val_loss: 0.6873 - val_accuracy: 0.6297\n",
      "Epoch 5/10\n",
      "716/716 [==============================] - 43s 60ms/step - loss: 0.6828 - accuracy: 0.6582 - val_loss: 0.6786 - val_accuracy: 0.6544\n",
      "Epoch 6/10\n",
      "716/716 [==============================] - 44s 61ms/step - loss: 0.6633 - accuracy: 0.6877 - val_loss: 0.6460 - val_accuracy: 0.6799\n",
      "Epoch 7/10\n",
      "716/716 [==============================] - 42s 58ms/step - loss: 0.5866 - accuracy: 0.7193 - val_loss: 0.5371 - val_accuracy: 0.7299\n",
      "Epoch 8/10\n",
      "716/716 [==============================] - 41s 57ms/step - loss: 0.4765 - accuracy: 0.7704 - val_loss: 0.4530 - val_accuracy: 0.7850\n",
      "Epoch 9/10\n",
      "716/716 [==============================] - 41s 58ms/step - loss: 0.3956 - accuracy: 0.8222 - val_loss: 0.3958 - val_accuracy: 0.8202\n",
      "Epoch 10/10\n",
      "716/716 [==============================] - 43s 61ms/step - loss: 0.3529 - accuracy: 0.8479 - val_loss: 0.3712 - val_accuracy: 0.8340\n"
     ]
    }
   ],
   "source": [
    "configurations_rnn = []\n",
    "histories_rnn = []\n",
    "\n",
    "for i in range(1):\n",
    "    # Change range for random search\n",
    "    \n",
    "    # For random search\n",
    "    # config = random_rnn_config(initializers, regularizers, constraints)\n",
    "    \n",
    "    # print(config)\n",
    "    # configurations_rnn.append(config)\n",
    "    \n",
    "    # For specific test\n",
    "    #config = [32, 'truncated_normal', 'identity', 'lecun_normal', 'l2', 'l2', 'l1', 'l2', 'unit_norm', 'non_neg', 0.4032530557603061, 'zeros', 'random_uniform', 'random_normal', 'l2', 'l2', 'l2', 'l2', 'min_max_norm', None, 0.4061613404389912]\n",
    "    \n",
    "    model_rnn = Sequential([\n",
    "        Embedding(vocab_size, 32, input_shape=(maxLen,)),\n",
    "\n",
    "        # First GRU\n",
    "        GRU(32, \n",
    "            return_sequences=True, \n",
    "            ),\n",
    "\n",
    "        # Second GRU\n",
    "        GRU(32),\n",
    "\n",
    "        # Output\n",
    "        Dense(1, activation=\"sigmoid\")\n",
    "    ])\n",
    "\n",
    "    opt = Adam(learning_rate=0.00001)\n",
    "    model_rnn.compile(optimizer=opt, loss='binary_crossentropy', metrics=[\"accuracy\"])\n",
    "    history_rnn = model_rnn.fit(x_train, y_train, batch_size=32, epochs=10, validation_data=(x_test, y_test))\n",
    "    histories_rnn.append(history_rnn.history)"
   ]
  },
  {
   "cell_type": "code",
   "execution_count": 83,
   "id": "8f549afb-9e12-4d03-8845-f50a1f6d4e05",
   "metadata": {
    "colab": {
     "base_uri": "https://localhost:8080/"
    },
    "execution": {
     "iopub.execute_input": "2023-11-07T01:56:55.712406Z",
     "iopub.status.busy": "2023-11-07T01:56:55.711349Z",
     "iopub.status.idle": "2023-11-07T01:56:55.730076Z",
     "shell.execute_reply": "2023-11-07T01:56:55.729329Z",
     "shell.execute_reply.started": "2023-11-07T01:56:55.712371Z"
    },
    "id": "8f549afb-9e12-4d03-8845-f50a1f6d4e05",
    "outputId": "0cd4c3b5-d5d7-45cf-c363-1d6acbdfe923",
    "tags": []
   },
   "outputs": [
    {
     "name": "stdout",
     "output_type": "stream",
     "text": [
      "Model: \"sequential_32\"\n",
      "_________________________________________________________________\n",
      " Layer (type)                Output Shape              Param #   \n",
      "=================================================================\n",
      " embedding_1 (Embedding)     (None, 500, 32)           320000    \n",
      "                                                                 \n",
      " gru_2 (GRU)                 (None, 500, 32)           6336      \n",
      "                                                                 \n",
      " gru_3 (GRU)                 (None, 32)                6336      \n",
      "                                                                 \n",
      " dense_197 (Dense)           (None, 1)                 33        \n",
      "                                                                 \n",
      "=================================================================\n",
      "Total params: 332,705\n",
      "Trainable params: 332,705\n",
      "Non-trainable params: 0\n",
      "_________________________________________________________________\n"
     ]
    }
   ],
   "source": [
    "model_rnn.summary()"
   ]
  },
  {
   "cell_type": "code",
   "execution_count": 89,
   "id": "4nK8TMfzWTPv",
   "metadata": {
    "colab": {
     "base_uri": "https://localhost:8080/",
     "height": 485
    },
    "execution": {
     "iopub.execute_input": "2023-11-07T02:20:23.306189Z",
     "iopub.status.busy": "2023-11-07T02:20:23.304954Z",
     "iopub.status.idle": "2023-11-07T02:20:23.546229Z",
     "shell.execute_reply": "2023-11-07T02:20:23.545061Z",
     "shell.execute_reply.started": "2023-11-07T02:20:23.306146Z"
    },
    "id": "4nK8TMfzWTPv",
    "outputId": "c7940543-3148-439b-9bc7-599cab0327df"
   },
   "outputs": [
    {
     "data": {
      "image/png": "[encoded data removed]",
      "text/plain": [
       "<Figure size 800x500 with 1 Axes>"
      ]
     },
     "metadata": {},
     "output_type": "display_data"
    }
   ],
   "source": [
    "fig = pd.DataFrame(history_rnn.history).plot(figsize=(8,5))\n",
    "plt.grid(True)\n",
    "plt.gca().set_ylim(0,1)\n",
    "plt.ylabel(\"Value\")\n",
    "plt.xlabel(\"Epoch\")\n",
    "plt.title(\"RNN Metrics\")\n",
    "plt.show()"
   ]
  },
  {
   "cell_type": "code",
   "execution_count": 69,
   "id": "553ba056-087d-4594-8188-c213f395b41f",
   "metadata": {
    "execution": {
     "iopub.execute_input": "2023-11-01T01:11:47.557535Z",
     "iopub.status.busy": "2023-11-01T01:11:47.557131Z",
     "iopub.status.idle": "2023-11-01T01:11:55.999720Z",
     "shell.execute_reply": "2023-11-01T01:11:55.996676Z",
     "shell.execute_reply.started": "2023-11-01T01:11:47.557506Z"
    },
    "id": "553ba056-087d-4594-8188-c213f395b41f"
   },
   "outputs": [
    {
     "name": "stderr",
     "output_type": "stream",
     "text": [
      "WARNING:absl:Found untraced functions such as gru_cell_65_layer_call_fn, gru_cell_65_layer_call_and_return_conditional_losses, gru_cell_66_layer_call_fn, gru_cell_66_layer_call_and_return_conditional_losses while saving (showing 4 of 4). These functions will not be directly callable after loading.\n"
     ]
    },
    {
     "name": "stdout",
     "output_type": "stream",
     "text": [
      "INFO:tensorflow:Assets written to: ram://643dfdb1-5427-4491-a4c6-a431898a2837/assets\n"
     ]
    },
    {
     "name": "stderr",
     "output_type": "stream",
     "text": [
      "INFO:tensorflow:Assets written to: ram://643dfdb1-5427-4491-a4c6-a431898a2837/assets\n"
     ]
    }
   ],
   "source": [
    "model2.save(\"imdb_RNN_1.keras\")\n",
    "fileObj = open('history2.obj', 'wb')\n",
    "pickle.dump(history2,fileObj)\n",
    "fileObj.close()"
   ]
  }
 ],
 "metadata": {
  "accelerator": "TPU",
  "colab": {
   "provenance": []
  },
  "kernelspec": {
   "display_name": "Python 3 (ipykernel)",
   "language": "python",
   "name": "python3"
  },
  "language_info": {
   "codemirror_mode": {
    "name": "ipython",
    "version": 3
   },
   "file_extension": ".py",
   "mimetype": "text/x-python",
   "name": "python",
   "nbconvert_exporter": "python",
   "pygments_lexer": "ipython3",
   "version": "3.9.16"
  }
 },
 "nbformat": 4,
 "nbformat_minor": 5
}
